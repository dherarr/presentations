{
 "cells": [
  {
   "cell_type": "code",
   "execution_count": 13,
   "id": "2b224b9b",
   "metadata": {},
   "outputs": [
    {
     "name": "stdout",
     "output_type": "stream",
     "text": [
      "Error metric 2.514208947502162\n"
     ]
    }
   ],
   "source": [
    "import numpy as np\n",
    "from scipy.stats import rice\n",
    "from scipy.special import i0\n",
    "from scipy.optimize import minimize\n",
    "import matplotlib.pyplot as plt\n",
    "import matplotlib\n",
    "\n",
    "\n",
    "def ivim_signal(b, S0, D, f, D_star):\n",
    "    \"\"\"\n",
    "    Calculates the IVIM signal under the bi-exponential model.\n",
    "\n",
    "    Args:\n",
    "        b (array-like): b-values\n",
    "        S0 (float): Initial signal amplitude \n",
    "        D (float): True diffusion coefficient\n",
    "        f (float): Perfusion fraction\n",
    "        D_star (float): Pseudodiffusion coefficient\n",
    "\n",
    "    Returns:\n",
    "        array-like: IVIM signal values\n",
    "    \"\"\"\n",
    "    return S0 * (f * np.exp(-b * D_star) + (1 - f) * np.exp(-b * D)) \n",
    "\n",
    "def jacobian(b, S0, D, f, D_star):\n",
    "    \"\"\"\n",
    "    Calculates the Jacobian matrix of the IVIM signal model.\n",
    "\n",
    "    Args:\n",
    "        b (array-like): b-values\n",
    "        S0 (float): Initial signal amplitude \n",
    "        D (float): True diffusion coefficient\n",
    "        f (float): Perfusion fraction\n",
    "        D_star (float): Pseudodiffusion coefficient\n",
    "\n",
    "    Returns:\n",
    "        numpy.ndarray: Jacobian matrix\n",
    "    \"\"\"\n",
    "    dSdS0 = f * np.exp(-b * D_star) + (1 - f) * np.exp(-b * D)\n",
    "    dSdD = -S0 * (1 - f) * b * np.exp(-b * D)\n",
    "    dSdF = S0 * (np.exp(-b * D_star) - np.exp(-b * D))\n",
    "    dSdDstar = -S0 * f * b * np.exp(-b * D_star)\n",
    "    return np.stack([dSdS0, dSdD, dSdF, dSdDstar], axis=1)\n",
    "\n",
    "\n",
    "def crlb(b, S0, D, f, D_star, sigma):\n",
    "    \"\"\"\n",
    "    Calculates the Cramer-Rao Lower Bound (CRLB) for IVIM parameters.\n",
    "\n",
    "    Args:\n",
    "        b (array-like): b-values\n",
    "        S0 (float): Initial signal amplitude \n",
    "        D (float): True diffusion coefficient\n",
    "        f (float): Perfusion fraction\n",
    "        D_star (float): Pseudodiffusion coefficient\n",
    "        sigma (float): Standard deviation of Rician noise\n",
    "\n",
    "    Returns:\n",
    "        numpy.ndarray: Covariance matrix (the diagonal elements are CRLBs)\n",
    "    \"\"\"\n",
    "    J = jacobian(b, S0, D, f, D_star)\n",
    "    fisher_info = (J.T @ J) / sigma**2 \n",
    "    return np.linalg.inv(fisher_info)  \n",
    "\n",
    "# Example usage:\n",
    "b_values = np.array([0, 10, 100, 200, 500, 800])\n",
    "true_S0 = 1.0  # mm^2/s\n",
    "true_D = 0.001  # mm^2/s\n",
    "true_f = 0.15\n",
    "true_D_star = 0.02  # mm^2/s\n",
    "sigma = 0.05  # Standard deviation of noise\n",
    "\n",
    "crlb_matrix = crlb(b_values, true_S0, true_D, true_f, true_D_star, sigma)\n",
    "\n",
    "std_D = np.sqrt(crlb_matrix[1,1]);\n",
    "std_f = np.sqrt(crlb_matrix[2,2]);\n",
    "std_D_star = np.sqrt(crlb_matrix[3,3]);\n",
    "\n",
    "#print(\"Sqrt CRLB for D:\", std_D)\n",
    "#print(\"Sqrt CRLB for f:\", std_f)\n",
    "#print(\"Sqrt CRLB for D*:\", std_D_star) \n",
    "\n",
    "\n",
    "error_metric = std_D/true_D + std_f +  std_D_star/true_D_star # Not normalizing by true_f, which can be zero\n",
    "print(\"Error metric\", error_metric) \n"
   ]
  },
  {
   "cell_type": "code",
   "execution_count": 14,
   "id": "456f4550",
   "metadata": {},
   "outputs": [
    {
     "name": "stdout",
     "output_type": "stream",
     "text": [
      "[  1.           2.27584593   5.17947468  11.78768635  26.82695795\n",
      "  61.05402297 138.94954944 316.22776602]\n",
      "Optimized parameters: [0.000e+00 0.000e+00 1.000e+00 1.000e+00 1.200e+01 1.300e+01 1.104e+03\n",
      " 1.500e+03]\n",
      "Minimum value: 1.92\n"
     ]
    }
   ],
   "source": [
    "def objective_function_range(b, S0s, Ds, fs, D_stars, sigma):       \n",
    "    b = np.clip(b,0,1500)\n",
    "    error_metric = 0.0\n",
    "    error_metrics = []\n",
    "    for S0 in S0s:\n",
    "        for D in Ds:\n",
    "            for f in fs:\n",
    "                for D_star in D_stars:\n",
    "                    crlb_matrix = crlb(b, S0, D, f, D_star, sigma)\n",
    "                    std_D = np.sqrt(crlb_matrix[1,1]);\n",
    "                    std_f = np.sqrt(crlb_matrix[2,2]);\n",
    "                    std_D_star = np.sqrt(crlb_matrix[3,3]);\n",
    "                    cur_error =  std_D/D + std_f/f +  std_D_star/D_star # Normalizing by true_f, which can be zero\n",
    "#                    cur_error =  std_D/np.mean(Ds) + std_f/np.mean(fs) +  std_D_star/np.mean(D_stars) # Normalizing by true_f, which can be zero\n",
    "                    error_metrics = np.append(error_metrics,(cur_error))\n",
    "    error_metric = np.max(error_metrics)\n",
    "#    error_metric = np.median(error_metrics)\n",
    "    return error_metric\n",
    "\n",
    "# True parameters\n",
    "true_S0s = np.linspace(1,2,1)  # mm^2/s\n",
    "true_Ds = np.linspace(0.001,0.002,1)  # mm^2/s\n",
    "true_fs = np.linspace(0.2,0.4,1)\n",
    "true_D_stars = np.linspace(0.75,0.1,1)  # mm^2/s\n",
    "#true_Ds = np.linspace(0.0005,0.0015,3)  # mm^2/s\n",
    "#true_fs = np.linspace(0.2,0.4,3)\n",
    "#true_D_stars = np.linspace(0.02,0.15,21)  # mm^2/s\n",
    "sigma = 0.1  # Standard deviation of noise\n",
    "\n",
    "# Define fixed parameters\n",
    "fixed_params = {'S0s': true_S0s, 'Ds': true_Ds, 'fs': true_fs, 'D_stars':true_D_stars, 'sigma':sigma}\n",
    "\n",
    "# Choose an optimization method and provide an initial guess for x\n",
    "method = 'Nelder-Mead'  # Other options: 'differential_evolution', etc.\n",
    "b0 = np.logspace(0, 2.5, 8, base=10.0)\n",
    "#b0 = np.linspace(0, 500, 20)\n",
    "\n",
    "print(b0)\n",
    "\n",
    "# Minimize the objective function (using args to pass fixed parameters)\n",
    "result = minimize(objective_function_range, b0, method=method, args=(fixed_params['S0s'], fixed_params['Ds'], fixed_params['fs'], fixed_params['D_stars'], fixed_params['sigma']),options={'maxiter': 50000, 'maxfev': 200000})\n",
    "b_opt = np.clip(result.x,0,1500)\n",
    "b0 = b_opt\n",
    "result = minimize(objective_function_range, b0, method=method, args=(fixed_params['S0s'], fixed_params['Ds'], fixed_params['fs'], fixed_params['D_stars'], fixed_params['sigma']),options={'maxiter': 50000, 'maxfev': 200000})\n",
    "b_opt = np.clip(result.x,0,1500)\n",
    "b_opt = np.sort(b_opt)\n",
    "\n",
    "#result = differential_evolution(objective_function, bounds,args=(fixed_params['S0'], fixed_params['D'], fixed_params['f'], fixed_params['D_star'], fixed_params['sigma']))\n",
    "# Check if the optimization was successful\n",
    "if not result.success:\n",
    "    print(\"Optimization failed!\")\n",
    "\n",
    "print(\"Optimized parameters:\", np.round(b_opt))\n",
    "print(\"Minimum value: {:.3g}\".format(result.fun)) \n"
   ]
  },
  {
   "cell_type": "code",
   "execution_count": 15,
   "id": "67f62291",
   "metadata": {},
   "outputs": [
    {
     "name": "stdout",
     "output_type": "stream",
     "text": [
      "Optimized parameters: [0.000e+00 0.000e+00 1.000e+00 1.000e+00 1.200e+01 1.200e+01 1.099e+03\n",
      " 1.500e+03]\n",
      "Minimum value: 1.92\n"
     ]
    }
   ],
   "source": [
    "b0 = b_opt\n",
    "result = minimize(objective_function_range, b0, method=method, args=(fixed_params['S0s'], fixed_params['Ds'], fixed_params['fs'], fixed_params['D_stars'], fixed_params['sigma']),options={'maxiter': 50000, 'maxfev': 200000})\n",
    "b_opt = np.clip(result.x,0,1500)\n",
    "b_opt = np.sort(b_opt)\n",
    "\n",
    "#result = differential_evolution(objective_function, bounds,args=(fixed_params['S0'], fixed_params['D'], fixed_params['f'], fixed_params['D_star'], fixed_params['sigma']))\n",
    "# Check if the optimization was successful\n",
    "if not result.success:\n",
    "    print(\"Optimization failed!\")\n",
    "\n",
    "print(\"Optimized parameters:\", np.round(b_opt))\n",
    "print(\"Minimum value: {:.3g}\".format(result.fun)) \n"
   ]
  },
  {
   "cell_type": "code",
   "execution_count": 16,
   "id": "ec46ad5b",
   "metadata": {},
   "outputs": [
    {
     "name": "stdout",
     "output_type": "stream",
     "text": [
      "Optimized parameters: [0.000e+00 0.000e+00 1.000e+00 1.000e+00 1.200e+01 1.200e+01 1.099e+03\n",
      " 1.500e+03]\n",
      "Minimum value: 1.92\n"
     ]
    }
   ],
   "source": [
    "b0 = b_opt\n",
    "result = minimize(objective_function_range, b0, method=method, args=(fixed_params['S0s'], fixed_params['Ds'], fixed_params['fs'], fixed_params['D_stars'], fixed_params['sigma']),options={'maxiter': 50000, 'maxfev': 200000})\n",
    "b_opt = np.clip(result.x,0,1500)\n",
    "b_opt = np.sort(b_opt)\n",
    "\n",
    "#result = differential_evolution(objective_function, bounds,args=(fixed_params['S0'], fixed_params['D'], fixed_params['f'], fixed_params['D_star'], fixed_params['sigma']))\n",
    "# Check if the optimization was successful\n",
    "if not result.success:\n",
    "    print(\"Optimization failed!\")\n",
    "\n",
    "print(\"Optimized parameters:\", np.round(b_opt))\n",
    "print(\"Minimum value: {:.3g}\".format(result.fun)) \n"
   ]
  },
  {
   "cell_type": "code",
   "execution_count": 17,
   "id": "94348218",
   "metadata": {},
   "outputs": [
    {
     "data": {
      "image/png": "[encoded data removed]",
      "text/plain": [
       "<Figure size 1200x50 with 1 Axes>"
      ]
     },
     "metadata": {},
     "output_type": "display_data"
    }
   ],
   "source": [
    "# Plot the resulting b values\n",
    "s = lambda x : (((x-x.min())/float(x.max()-x.min())+1)*8)**2\n",
    "b2 = b_opt.copy()\n",
    "b2[b2<1] = 1\n",
    "u, c = np.unique(np.c_[np.round(b2)], return_counts=True, axis=0)\n",
    "yax = 0*u + 1;\n",
    "\n",
    "\n",
    "plt.figure(figsize=(12,0.5))\n",
    "plt.scatter(u,yax,s=c*8)\n",
    "plt.tick_params(left = False, labelleft = False ) \n",
    "plt.xscale('log')\n",
    "plt.xlabel('b value',fontsize=16)\n",
    "plt.xlim(0.8,1600) \n",
    "#plt.ticklabel_format(scilimits=(-5, 8))\n",
    "plt.show()\n"
   ]
  },
  {
   "cell_type": "code",
   "execution_count": 18,
   "id": "e9d7dfc3",
   "metadata": {},
   "outputs": [
    {
     "data": {
      "image/png": "[encoded data removed]",
      "text/plain": [
       "<Figure size 1200x300 with 1 Axes>"
      ]
     },
     "metadata": {},
     "output_type": "display_data"
    }
   ],
   "source": [
    "# Plot the signal\n",
    "plt.figure(figsize=(12,3))\n",
    "b = np.linspace(1,1500,1500)\n",
    "for S0 in true_S0s:\n",
    "    for D in true_Ds:\n",
    "        for f in true_fs:\n",
    "            for D_star in true_D_stars:\n",
    "                curs = ivim_signal(b, S0, D, f, D_star)\n",
    "                plt.plot(b,curs)\n",
    "                plt.xscale('log')\n",
    "                plt.xlabel('b value',fontsize=16)\n",
    "                plt.xlim(0.8,1600) \n",
    "                plt.tick_params(left = False, labelleft = False ) \n"
   ]
  },
  {
   "cell_type": "code",
   "execution_count": 19,
   "id": "5a6e1faf",
   "metadata": {},
   "outputs": [
    {
     "data": {
      "image/png": "[encoded data removed]",
      "text/plain": [
       "<Figure size 1200x50 with 1 Axes>"
      ]
     },
     "metadata": {},
     "output_type": "display_data"
    }
   ],
   "source": [
    "# Some b values from the literature: Luciani A, Vignaud A, Cavet M, et al. Liver cirrhosis: intravoxel incoherent motion MR imaging–pilot study. Radiology 2008;249(3):891-899.\n",
    "blit = np.array([1, 10, 20, 30, 50, 80, 100,200, 400, 800]) # Replacing the 0 with 1\n",
    "clit = 0*blit + 5;\n",
    "yax = 0*blit + 1;\n",
    "\n",
    "\n",
    "plt.figure(figsize=(12,0.5))\n",
    "plt.scatter(blit,yax,s=clit*8)\n",
    "plt.tick_params(left = False, labelleft = False ) \n",
    "plt.xscale('log')\n",
    "plt.xlabel('b value',fontsize=16)\n",
    "plt.xlim(0.8,1600) \n",
    "#plt.ticklabel_format(scilimits=(-5, 8))\n",
    "plt.show()\n",
    "\n"
   ]
  },
  {
   "cell_type": "code",
   "execution_count": null,
   "id": "582a48cb",
   "metadata": {},
   "outputs": [],
   "source": []
  }
 ],
 "metadata": {
  "kernelspec": {
   "display_name": "Python 3 (ipykernel)",
   "language": "python",
   "name": "python3"
  },
  "language_info": {
   "codemirror_mode": {
    "name": "ipython",
    "version": 3
   },
   "file_extension": ".py",
   "mimetype": "text/x-python",
   "name": "python",
   "nbconvert_exporter": "python",
   "pygments_lexer": "ipython3",
   "version": "3.7.15"
  }
 },
 "nbformat": 4,
 "nbformat_minor": 5
}
